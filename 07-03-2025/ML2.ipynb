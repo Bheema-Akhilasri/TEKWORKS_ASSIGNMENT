{
 "cells": [
  {
   "cell_type": "code",
   "execution_count": 1,
   "id": "96a792dd-6295-44d1-bf04-d7d2b5481a01",
   "metadata": {},
   "outputs": [],
   "source": [
    "import numpy as np\n",
    "import pandas as pd"
   ]
  },
  {
   "cell_type": "code",
   "execution_count": 4,
   "id": "6789b247-e6a7-412b-8559-31ba49046760",
   "metadata": {},
   "outputs": [
    {
     "data": {
      "text/html": [
       "<div>\n",
       "<style scoped>\n",
       "    .dataframe tbody tr th:only-of-type {\n",
       "        vertical-align: middle;\n",
       "    }\n",
       "\n",
       "    .dataframe tbody tr th {\n",
       "        vertical-align: top;\n",
       "    }\n",
       "\n",
       "    .dataframe thead th {\n",
       "        text-align: right;\n",
       "    }\n",
       "</style>\n",
       "<table border=\"1\" class=\"dataframe\">\n",
       "  <thead>\n",
       "    <tr style=\"text-align: right;\">\n",
       "      <th></th>\n",
       "      <th>x</th>\n",
       "      <th>y</th>\n",
       "    </tr>\n",
       "  </thead>\n",
       "  <tbody>\n",
       "    <tr>\n",
       "      <th>0</th>\n",
       "      <td>1</td>\n",
       "      <td>3</td>\n",
       "    </tr>\n",
       "    <tr>\n",
       "      <th>1</th>\n",
       "      <td>2</td>\n",
       "      <td>4</td>\n",
       "    </tr>\n",
       "    <tr>\n",
       "      <th>2</th>\n",
       "      <td>3</td>\n",
       "      <td>2</td>\n",
       "    </tr>\n",
       "    <tr>\n",
       "      <th>3</th>\n",
       "      <td>4</td>\n",
       "      <td>4</td>\n",
       "    </tr>\n",
       "    <tr>\n",
       "      <th>4</th>\n",
       "      <td>5</td>\n",
       "      <td>5</td>\n",
       "    </tr>\n",
       "  </tbody>\n",
       "</table>\n",
       "</div>"
      ],
      "text/plain": [
       "   x  y\n",
       "0  1  3\n",
       "1  2  4\n",
       "2  3  2\n",
       "3  4  4\n",
       "4  5  5"
      ]
     },
     "execution_count": 4,
     "metadata": {},
     "output_type": "execute_result"
    }
   ],
   "source": [
    "df=pd.DataFrame({'x':[1,2,3,4,5],\n",
    "                 'y':[3,4,2,4,5]})\n",
    "df"
   ]
  },
  {
   "cell_type": "code",
   "execution_count": 5,
   "id": "f30a7227-e108-4f97-9009-ff6acdcfeebe",
   "metadata": {},
   "outputs": [],
   "source": [
    "x_mean=np.mean(df['x'])\n",
    "y_mean=np.mean(df['y'])"
   ]
  },
  {
   "cell_type": "code",
   "execution_count": 6,
   "id": "99b09599-7277-40ca-a601-c10585c8db48",
   "metadata": {},
   "outputs": [
    {
     "data": {
      "text/plain": [
       "0.4"
      ]
     },
     "execution_count": 6,
     "metadata": {},
     "output_type": "execute_result"
    }
   ],
   "source": [
    "m=np.sum((df['x']-x_mean)*(df['y']-y_mean))/np.sum((df['x']-x_mean)**2)\n",
    "m"
   ]
  },
  {
   "cell_type": "code",
   "execution_count": 7,
   "id": "34dc1dea-628c-45b8-a70e-47365d22a932",
   "metadata": {},
   "outputs": [
    {
     "data": {
      "text/plain": [
       "2.4"
      ]
     },
     "execution_count": 7,
     "metadata": {},
     "output_type": "execute_result"
    }
   ],
   "source": [
    "c=y_mean-(m*x_mean)\n",
    "c"
   ]
  },
  {
   "cell_type": "code",
   "execution_count": 8,
   "id": "a714771e-b13e-4415-ab80-d1c9b808cd7a",
   "metadata": {},
   "outputs": [
    {
     "name": "stdout",
     "output_type": "stream",
     "text": [
      "The equation for the dataset is y=0.4x+2.4\n"
     ]
    }
   ],
   "source": [
    "print(f'The equation for the dataset is y={m}x+{c}')"
   ]
  },
  {
   "cell_type": "code",
   "execution_count": 9,
   "id": "31d7a3bc-9c82-4fbe-a308-566b1ee566b4",
   "metadata": {},
   "outputs": [
    {
     "data": {
      "text/plain": [
       "0    2.8\n",
       "1    3.2\n",
       "2    3.6\n",
       "3    4.0\n",
       "4    4.4\n",
       "Name: x, dtype: float64"
      ]
     },
     "execution_count": 9,
     "metadata": {},
     "output_type": "execute_result"
    }
   ],
   "source": [
    "pred=m*df['x']+c\n",
    "pred"
   ]
  },
  {
   "cell_type": "code",
   "execution_count": 10,
   "id": "78b15f32-6781-4f9e-b5cf-5deadd9b9efe",
   "metadata": {},
   "outputs": [],
   "source": [
    "import matplotlib.pyplot as plt"
   ]
  },
  {
   "cell_type": "code",
   "execution_count": 41,
   "id": "cec9817c-f0ec-4b8f-acfc-889f164f2e87",
   "metadata": {},
   "outputs": [
    {
     "data": {
      "image/png": "[encoded data removed]",
      "text/plain": [
       "<Figure size 640x480 with 1 Axes>"
      ]
     },
     "metadata": {},
     "output_type": "display_data"
    }
   ],
   "source": [
    "scatter = plt.scatter(df['x'],df['y'])\n",
    "scatter = plt.scatter(df['x'],pred)\n",
    "best_fit = plt.plot(df['x'],pred)\n",
    "plt.show(best_fit)"
   ]
  },
  {
   "cell_type": "code",
   "execution_count": 20,
   "id": "36bc6cab-cd7f-4020-8277-59fe2dca54a8",
   "metadata": {},
   "outputs": [
    {
     "name": "stdout",
     "output_type": "stream",
     "text": [
      "R2 Score value is 0.69\n"
     ]
    }
   ],
   "source": [
    "r2_score=1-(np.sum((pred-y_mean)**2)/np.sum((df['y']-y_mean)**2))\n",
    "print(f'R2 Score value is {r2_score:.2f}')"
   ]
  },
  {
   "cell_type": "code",
   "execution_count": 21,
   "id": "5a08c1bf-f2d2-42be-9300-625c5c2063be",
   "metadata": {},
   "outputs": [
    {
     "data": {
      "text/html": [
       "<div>\n",
       "<style scoped>\n",
       "    .dataframe tbody tr th:only-of-type {\n",
       "        vertical-align: middle;\n",
       "    }\n",
       "\n",
       "    .dataframe tbody tr th {\n",
       "        vertical-align: top;\n",
       "    }\n",
       "\n",
       "    .dataframe thead th {\n",
       "        text-align: right;\n",
       "    }\n",
       "</style>\n",
       "<table border=\"1\" class=\"dataframe\">\n",
       "  <thead>\n",
       "    <tr style=\"text-align: right;\">\n",
       "      <th></th>\n",
       "      <th>Gender</th>\n",
       "      <th>Age Range</th>\n",
       "      <th>Head Size(cm^3)</th>\n",
       "      <th>Brain Weight(grams)</th>\n",
       "    </tr>\n",
       "  </thead>\n",
       "  <tbody>\n",
       "    <tr>\n",
       "      <th>0</th>\n",
       "      <td>1</td>\n",
       "      <td>1</td>\n",
       "      <td>4512</td>\n",
       "      <td>1530</td>\n",
       "    </tr>\n",
       "    <tr>\n",
       "      <th>1</th>\n",
       "      <td>1</td>\n",
       "      <td>1</td>\n",
       "      <td>3738</td>\n",
       "      <td>1297</td>\n",
       "    </tr>\n",
       "    <tr>\n",
       "      <th>2</th>\n",
       "      <td>1</td>\n",
       "      <td>1</td>\n",
       "      <td>4261</td>\n",
       "      <td>1335</td>\n",
       "    </tr>\n",
       "    <tr>\n",
       "      <th>3</th>\n",
       "      <td>1</td>\n",
       "      <td>1</td>\n",
       "      <td>3777</td>\n",
       "      <td>1282</td>\n",
       "    </tr>\n",
       "    <tr>\n",
       "      <th>4</th>\n",
       "      <td>1</td>\n",
       "      <td>1</td>\n",
       "      <td>4177</td>\n",
       "      <td>1590</td>\n",
       "    </tr>\n",
       "    <tr>\n",
       "      <th>...</th>\n",
       "      <td>...</td>\n",
       "      <td>...</td>\n",
       "      <td>...</td>\n",
       "      <td>...</td>\n",
       "    </tr>\n",
       "    <tr>\n",
       "      <th>232</th>\n",
       "      <td>2</td>\n",
       "      <td>2</td>\n",
       "      <td>3214</td>\n",
       "      <td>1110</td>\n",
       "    </tr>\n",
       "    <tr>\n",
       "      <th>233</th>\n",
       "      <td>2</td>\n",
       "      <td>2</td>\n",
       "      <td>3394</td>\n",
       "      <td>1215</td>\n",
       "    </tr>\n",
       "    <tr>\n",
       "      <th>234</th>\n",
       "      <td>2</td>\n",
       "      <td>2</td>\n",
       "      <td>3233</td>\n",
       "      <td>1104</td>\n",
       "    </tr>\n",
       "    <tr>\n",
       "      <th>235</th>\n",
       "      <td>2</td>\n",
       "      <td>2</td>\n",
       "      <td>3352</td>\n",
       "      <td>1170</td>\n",
       "    </tr>\n",
       "    <tr>\n",
       "      <th>236</th>\n",
       "      <td>2</td>\n",
       "      <td>2</td>\n",
       "      <td>3391</td>\n",
       "      <td>1120</td>\n",
       "    </tr>\n",
       "  </tbody>\n",
       "</table>\n",
       "<p>237 rows × 4 columns</p>\n",
       "</div>"
      ],
      "text/plain": [
       "     Gender  Age Range  Head Size(cm^3)  Brain Weight(grams)\n",
       "0         1          1             4512                 1530\n",
       "1         1          1             3738                 1297\n",
       "2         1          1             4261                 1335\n",
       "3         1          1             3777                 1282\n",
       "4         1          1             4177                 1590\n",
       "..      ...        ...              ...                  ...\n",
       "232       2          2             3214                 1110\n",
       "233       2          2             3394                 1215\n",
       "234       2          2             3233                 1104\n",
       "235       2          2             3352                 1170\n",
       "236       2          2             3391                 1120\n",
       "\n",
       "[237 rows x 4 columns]"
      ]
     },
     "execution_count": 21,
     "metadata": {},
     "output_type": "execute_result"
    }
   ],
   "source": [
    "hb=pd.read_csv('headbrain.csv')\n",
    "hb"
   ]
  },
  {
   "cell_type": "code",
   "execution_count": 22,
   "id": "3c5e1832-db1d-452e-8a13-3f7de8d58caf",
   "metadata": {},
   "outputs": [],
   "source": [
    "x=hb['Head Size(cm^3)']\n",
    "y=hb['Brain Weight(grams)']"
   ]
  },
  {
   "cell_type": "code",
   "execution_count": 23,
   "id": "f4346d04-147d-41bf-9266-87de828a9a9d",
   "metadata": {},
   "outputs": [],
   "source": [
    "x_m=np.mean(hb['Head Size(cm^3)'])\n",
    "y_m=np.mean(hb['Brain Weight(grams)'])"
   ]
  },
  {
   "cell_type": "code",
   "execution_count": 25,
   "id": "da584ace-66f3-4b30-ae58-0300881ae714",
   "metadata": {},
   "outputs": [
    {
     "data": {
      "text/plain": [
       "0.2634293394893993"
      ]
     },
     "execution_count": 25,
     "metadata": {},
     "output_type": "execute_result"
    }
   ],
   "source": [
    "hb_m=np.sum((x-x_m)*(y-y_m))/np.sum((x-x_m)**2)\n",
    "hb_m"
   ]
  },
  {
   "cell_type": "code",
   "execution_count": 37,
   "id": "3e92eb96-324b-4fa5-bbec-a93ab1e4057f",
   "metadata": {},
   "outputs": [
    {
     "data": {
      "text/plain": [
       "325.5734210494428"
      ]
     },
     "execution_count": 37,
     "metadata": {},
     "output_type": "execute_result"
    }
   ],
   "source": [
    "hb_c=y_m-(hb_m*x_m)\n",
    "hb_c"
   ]
  },
  {
   "cell_type": "code",
   "execution_count": 38,
   "id": "40480baf-ff75-4565-bcc7-a607327f0188",
   "metadata": {},
   "outputs": [
    {
     "name": "stdout",
     "output_type": "stream",
     "text": [
      "The equation for the dataset is y=0.26x+325.57\n"
     ]
    }
   ],
   "source": [
    "print(f'The equation for the dataset is y={hb_m:.2f}x+{hb_c:.2f}')"
   ]
  },
  {
   "cell_type": "code",
   "execution_count": 39,
   "id": "afdf7411-ecae-43f9-b32d-c4469d690634",
   "metadata": {},
   "outputs": [
    {
     "data": {
      "text/plain": [
       "0      1514.166601\n",
       "1      1310.272292\n",
       "2      1448.045837\n",
       "3      1320.546036\n",
       "4      1425.917772\n",
       "          ...     \n",
       "232    1172.235318\n",
       "233    1219.652599\n",
       "234    1177.240476\n",
       "235    1208.588567\n",
       "236    1218.862311\n",
       "Name: Head Size(cm^3), Length: 237, dtype: float64"
      ]
     },
     "execution_count": 39,
     "metadata": {},
     "output_type": "execute_result"
    }
   ],
   "source": [
    "hb_pred=hb_m*x+hb_c\n",
    "hb_pred"
   ]
  },
  {
   "cell_type": "code",
   "execution_count": 40,
   "id": "0f04b58a-5baa-4643-a6e8-6ff35df265ca",
   "metadata": {},
   "outputs": [
    {
     "name": "stdout",
     "output_type": "stream",
     "text": [
      "R2 Score value is 0.36\n"
     ]
    }
   ],
   "source": [
    "r2_score=1-(np.sum((hb_pred-y_m)**2)/np.sum((y-y_m)**2))\n",
    "print(f'R2 Score value is {r2_score:.2f}')"
   ]
  },
  {
   "cell_type": "code",
   "execution_count": 43,
   "id": "e027a5c4-e1e4-4afa-9f2f-683eb7cb8eb6",
   "metadata": {},
   "outputs": [
    {
     "data": {
      "image/png": "[encoded data removed]",
      "text/plain": [
       "<Figure size 640x480 with 1 Axes>"
      ]
     },
     "metadata": {},
     "output_type": "display_data"
    }
   ],
   "source": [
    "scatter = plt.scatter(x,y)\n",
    "scatter = plt.scatter(x,hb_pred)\n",
    "graph = plt.plot(x,hb_pred)\n",
    "plt.xlabel('Head Size(cm^3)')\n",
    "plt.ylabel('Brain Weight(grams)')\n",
    "plt.show(graph)"
   ]
  },
  {
   "cell_type": "code",
   "execution_count": null,
   "id": "98be992b-dc43-4799-b414-3b281406e6f2",
   "metadata": {},
   "outputs": [],
   "source": []
  }
 ],
 "metadata": {
  "kernelspec": {
   "display_name": "Python 3 (ipykernel)",
   "language": "python",
   "name": "python3"
  },
  "language_info": {
   "codemirror_mode": {
    "name": "ipython",
    "version": 3
   },
   "file_extension": ".py",
   "mimetype": "text/x-python",
   "name": "python",
   "nbconvert_exporter": "python",
   "pygments_lexer": "ipython3",
   "version": "3.11.5"
  }
 },
 "nbformat": 4,
 "nbformat_minor": 5
}
