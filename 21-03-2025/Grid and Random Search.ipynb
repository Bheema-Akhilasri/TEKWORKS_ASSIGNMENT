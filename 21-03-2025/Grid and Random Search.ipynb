{
 "cells": [
  {
   "cell_type": "code",
   "execution_count": 1,
   "id": "ad0143ce-5cc0-44aa-b5de-a815989fc1d3",
   "metadata": {},
   "outputs": [],
   "source": [
    "import numpy as np\n",
    "import pandas as pd\n",
    "import matplotlib.pyplot as plt\n",
    "import seaborn as sns\n",
    "from sklearn.model_selection import train_test_split,GridSearchCV,RandomizedSearchCV\n",
    "from sklearn.ensemble import RandomForestClassifier\n",
    "from sklearn.metrics import accuracy_score,classification_report,confusion_matrix\n",
    "from sklearn.datasets import load_iris"
   ]
  },
  {
   "cell_type": "code",
   "execution_count": 2,
   "id": "eb15e7d1-2306-4cab-9de8-95c188bb500a",
   "metadata": {},
   "outputs": [],
   "source": [
    "df=load_iris()\n",
    "x=df.data\n",
    "y=df.target"
   ]
  },
  {
   "cell_type": "code",
   "execution_count": 3,
   "id": "760456a0-e701-4f68-ae98-5fbd28671473",
   "metadata": {},
   "outputs": [],
   "source": [
    "param_grid={\n",
    "    'n_estimators':[10,50,100,200],\n",
    "    'max_depth':[5,10,20,None],\n",
    "    'min_samples_split':[2,5,10],\n",
    "    'min_samples_leaf':[1,2,4]\n",
    "}\n",
    "\n",
    "x_train,x_test,y_train,y_test=train_test_split(x,y,test_size=0.2,random_state=42)"
   ]
  },
  {
   "cell_type": "code",
   "execution_count": 4,
   "id": "0992bf4f-50a4-4ff0-b192-a1eb866af923",
   "metadata": {},
   "outputs": [
    {
     "name": "stdout",
     "output_type": "stream",
     "text": [
      "Fitting 5 folds for each of 144 candidates, totalling 720 fits\n",
      "Best Parameters from Grid Search: {'max_depth': 20, 'min_samples_leaf': 2, 'min_samples_split': 5, 'n_estimators': 50}\n"
     ]
    }
   ],
   "source": [
    "grid_search=GridSearchCV(RandomForestClassifier(),param_grid,cv=5,n_jobs=-1,verbose=1)\n",
    "grid_search.fit(x_train,y_train)\n",
    "\n",
    "print('Best Parameters from Grid Search:',grid_search.best_params_)"
   ]
  },
  {
   "cell_type": "code",
   "execution_count": 6,
   "id": "7e308058-c204-459b-85d9-62bbe1f26e67",
   "metadata": {},
   "outputs": [
    {
     "name": "stdout",
     "output_type": "stream",
     "text": [
      "Fitting 5 folds for each of 10 candidates, totalling 50 fits\n",
      "Best Parameters from Random Search: {'n_estimators': 50, 'min_samples_split': 2, 'min_samples_leaf': 4, 'max_depth': 20}\n"
     ]
    }
   ],
   "source": [
    "random_search=RandomizedSearchCV(RandomForestClassifier(),param_grid,n_iter=10,cv=5,n_jobs=-1,verbose=1,random_state=42)\n",
    "random_search.fit(x_train,y_train)\n",
    "\n",
    "print('Best Parameters from Random Search:',random_search.best_params_)"
   ]
  },
  {
   "cell_type": "code",
   "execution_count": 8,
   "id": "cabb29c1-ba71-430b-b868-636cbae0004d",
   "metadata": {},
   "outputs": [
    {
     "name": "stdout",
     "output_type": "stream",
     "text": [
      "Grid Search Accuracy:1.00\n",
      "Random Search Accuracy:1.00\n"
     ]
    }
   ],
   "source": [
    "best_grid_model=grid_search.best_estimator_\n",
    "best_random_model=random_search.best_estimator_\n",
    "\n",
    "y_pred_grid=best_grid_model.predict(x_test)\n",
    "y_pred_random=best_random_model.predict(x_test)\n",
    "\n",
    "acc_grid=accuracy_score(y_test,y_pred_grid)\n",
    "acc_random=accuracy_score(y_test,y_pred_random)\n",
    "\n",
    "print(f'Grid Search Accuracy:{acc_grid:.2f}')\n",
    "print(f'Random Search Accuracy:{acc_grid:.2f}')"
   ]
  },
  {
   "cell_type": "code",
   "execution_count": null,
   "id": "7f9fb77e-2f2a-4fcc-acaf-d03f684aaef6",
   "metadata": {},
   "outputs": [],
   "source": []
  }
 ],
 "metadata": {
  "kernelspec": {
   "display_name": "Python 3 (ipykernel)",
   "language": "python",
   "name": "python3"
  },
  "language_info": {
   "codemirror_mode": {
    "name": "ipython",
    "version": 3
   },
   "file_extension": ".py",
   "mimetype": "text/x-python",
   "name": "python",
   "nbconvert_exporter": "python",
   "pygments_lexer": "ipython3",
   "version": "3.11.5"
  }
 },
 "nbformat": 4,
 "nbformat_minor": 5
}
