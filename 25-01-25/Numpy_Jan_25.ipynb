{
 "cells": [
  {
   "cell_type": "code",
   "execution_count": 1,
   "id": "768c1638",
   "metadata": {},
   "outputs": [
    {
     "name": "stdout",
     "output_type": "stream",
     "text": [
      "Requirement already satisfied: numpy in c:\\users\\cvr\\anaconda3\\lib\\site-packages (1.24.3)\n",
      "Note: you may need to restart the kernel to use updated packages.\n"
     ]
    }
   ],
   "source": [
    "pip install numpy"
   ]
  },
  {
   "cell_type": "code",
   "execution_count": 2,
   "id": "897a6daa",
   "metadata": {},
   "outputs": [],
   "source": [
    "import numpy as np"
   ]
  },
  {
   "cell_type": "code",
   "execution_count": 3,
   "id": "bef462e9",
   "metadata": {},
   "outputs": [
    {
     "data": {
      "text/plain": [
       "array([1, 2, 3])"
      ]
     },
     "execution_count": 3,
     "metadata": {},
     "output_type": "execute_result"
    }
   ],
   "source": [
    "arr_1d=np.array([1,2,3])\n",
    "arr_1d"
   ]
  },
  {
   "cell_type": "code",
   "execution_count": 4,
   "id": "f210ead5",
   "metadata": {},
   "outputs": [
    {
     "data": {
      "text/plain": [
       "array([[1, 2, 3],\n",
       "       [4, 5, 6]])"
      ]
     },
     "execution_count": 4,
     "metadata": {},
     "output_type": "execute_result"
    }
   ],
   "source": [
    "arr_2d=np.array([[1,2,3],[4,5,6]])\n",
    "arr_2d"
   ]
  },
  {
   "cell_type": "code",
   "execution_count": 10,
   "id": "1ebbb161",
   "metadata": {},
   "outputs": [
    {
     "data": {
      "text/plain": [
       "array([[0., 0., 0.],\n",
       "       [0., 0., 0.],\n",
       "       [0., 0., 0.]])"
      ]
     },
     "execution_count": 10,
     "metadata": {},
     "output_type": "execute_result"
    }
   ],
   "source": [
    "zeros=np.zeros([3,3])\n",
    "zeros"
   ]
  },
  {
   "cell_type": "code",
   "execution_count": 12,
   "id": "56484150",
   "metadata": {},
   "outputs": [
    {
     "data": {
      "text/plain": [
       "array([[1., 1., 1.],\n",
       "       [1., 1., 1.],\n",
       "       [1., 1., 1.]])"
      ]
     },
     "execution_count": 12,
     "metadata": {},
     "output_type": "execute_result"
    }
   ],
   "source": [
    "ones=np.ones([3,3])\n",
    "ones"
   ]
  },
  {
   "cell_type": "code",
   "execution_count": 18,
   "id": "262d9d2c",
   "metadata": {},
   "outputs": [
    {
     "data": {
      "text/plain": [
       "array([[0.93580566, 0.2905196 , 0.24051869, 0.88383947],\n",
       "       [0.00655854, 0.42435472, 0.53708787, 0.50778626],\n",
       "       [0.21633643, 0.11223548, 0.37686443, 0.25131255],\n",
       "       [0.78138544, 0.98539876, 0.88078563, 0.78478327],\n",
       "       [0.97188621, 0.39946411, 0.79705794, 0.23703889]])"
      ]
     },
     "execution_count": 18,
     "metadata": {},
     "output_type": "execute_result"
    }
   ],
   "source": [
    "random_arr=np.random.random([5,4])\n",
    "random_arr"
   ]
  },
  {
   "cell_type": "code",
   "execution_count": 23,
   "id": "c6cad157",
   "metadata": {},
   "outputs": [
    {
     "data": {
      "text/plain": [
       "array([[1., 0., 0.],\n",
       "       [0., 1., 0.],\n",
       "       [0., 0., 1.]])"
      ]
     },
     "execution_count": 23,
     "metadata": {},
     "output_type": "execute_result"
    }
   ],
   "source": [
    "identity=np.eye(3)\n",
    "identity"
   ]
  },
  {
   "cell_type": "code",
   "execution_count": 26,
   "id": "61a0acc6",
   "metadata": {},
   "outputs": [
    {
     "data": {
      "text/plain": [
       "array([0, 2, 4, 6, 8])"
      ]
     },
     "execution_count": 26,
     "metadata": {},
     "output_type": "execute_result"
    }
   ],
   "source": [
    "range_arr=np.arange(0,10,2)\n",
    "range_arr"
   ]
  },
  {
   "cell_type": "code",
   "execution_count": 27,
   "id": "636c8068",
   "metadata": {},
   "outputs": [
    {
     "name": "stdout",
     "output_type": "stream",
     "text": [
      "Shape: (2, 3)\n",
      "Size: 6\n",
      "Data Type: int32\n",
      "Numner of Dimensions: 2\n"
     ]
    }
   ],
   "source": [
    "arr=np.array([[1,2,3],[4,5,6]])\n",
    "print('Shape:',arr.shape)\n",
    "print('Size:',arr.size)\n",
    "print('Data Type:',arr.dtype)\n",
    "print('Numner of Dimensions:',arr.ndim)"
   ]
  },
  {
   "cell_type": "code",
   "execution_count": 30,
   "id": "aa1c75b8",
   "metadata": {},
   "outputs": [
    {
     "data": {
      "text/plain": [
       "2"
      ]
     },
     "execution_count": 30,
     "metadata": {},
     "output_type": "execute_result"
    }
   ],
   "source": [
    "arr[0][1] #arr[0,1]"
   ]
  },
  {
   "cell_type": "code",
   "execution_count": 31,
   "id": "8ad596cd",
   "metadata": {},
   "outputs": [
    {
     "data": {
      "text/plain": [
       "6"
      ]
     },
     "execution_count": 31,
     "metadata": {},
     "output_type": "execute_result"
    }
   ],
   "source": [
    "arr[1,2]"
   ]
  },
  {
   "cell_type": "code",
   "execution_count": 34,
   "id": "895254ce",
   "metadata": {},
   "outputs": [
    {
     "data": {
      "text/plain": [
       "array([[2, 3],\n",
       "       [5, 6]])"
      ]
     },
     "execution_count": 34,
     "metadata": {},
     "output_type": "execute_result"
    }
   ],
   "source": [
    "arr[0:2,1:3] #arr[:,1:]"
   ]
  },
  {
   "cell_type": "code",
   "execution_count": 39,
   "id": "52e03e89",
   "metadata": {},
   "outputs": [
    {
     "data": {
      "text/plain": [
       "array([ 8, 10, 12])"
      ]
     },
     "execution_count": 39,
     "metadata": {},
     "output_type": "execute_result"
    }
   ],
   "source": [
    "arr1=np.array([2,3,4])\n",
    "arr2=np.array([6,7,8])\n",
    "arr1+arr2"
   ]
  },
  {
   "cell_type": "code",
   "execution_count": 40,
   "id": "38a2efd2",
   "metadata": {},
   "outputs": [
    {
     "data": {
      "text/plain": [
       "array([12, 21, 32])"
      ]
     },
     "execution_count": 40,
     "metadata": {},
     "output_type": "execute_result"
    }
   ],
   "source": [
    "arr1*arr2"
   ]
  },
  {
   "cell_type": "code",
   "execution_count": 48,
   "id": "e33fa4b3",
   "metadata": {},
   "outputs": [
    {
     "data": {
      "text/plain": [
       "array([[ 46,  58,  70],\n",
       "       [ 57,  72,  87],\n",
       "       [ 79, 100, 121]])"
      ]
     },
     "execution_count": 48,
     "metadata": {},
     "output_type": "execute_result"
    }
   ],
   "source": [
    "darr1=np.array([[3,4,5],[4,5,6],[6,7,8]])\n",
    "darr2=np.array([[1,2,3],[7,8,9],[3,4,5]])\n",
    "res=np.dot(darr1,darr2)\n",
    "res"
   ]
  },
  {
   "cell_type": "code",
   "execution_count": 49,
   "id": "08ac4245",
   "metadata": {},
   "outputs": [
    {
     "data": {
      "text/plain": [
       "array([[ 46,  58,  70],\n",
       "       [ 57,  72,  87],\n",
       "       [ 79, 100, 121]])"
      ]
     },
     "execution_count": 49,
     "metadata": {},
     "output_type": "execute_result"
    }
   ],
   "source": [
    "darr1@darr2"
   ]
  },
  {
   "cell_type": "code",
   "execution_count": 51,
   "id": "c9047958",
   "metadata": {},
   "outputs": [],
   "source": [
    "import matplotlib.pyplot as plt"
   ]
  },
  {
   "cell_type": "code",
   "execution_count": 52,
   "id": "6a5f859a",
   "metadata": {},
   "outputs": [
    {
     "data": {
      "image/png": "[encoded data removed]",
      "text/plain": [
       "<Figure size 640x480 with 1 Axes>"
      ]
     },
     "metadata": {},
     "output_type": "display_data"
    }
   ],
   "source": [
    "plt.plot(darr1,darr2)\n",
    "plt.show()"
   ]
  },
  {
   "cell_type": "code",
   "execution_count": 53,
   "id": "d2ee768f",
   "metadata": {},
   "outputs": [
    {
     "name": "stdout",
     "output_type": "stream",
     "text": [
      "[ 7.3890561  20.08553692 54.59815003]\n",
      "[1.41421356 1.73205081 2.        ]\n",
      "[0.69314718 1.09861229 1.38629436]\n"
     ]
    }
   ],
   "source": [
    "print(np.exp(arr1))\n",
    "print(np.sqrt(arr1))\n",
    "print(np.log(arr1))"
   ]
  },
  {
   "cell_type": "code",
   "execution_count": 54,
   "id": "c9b852fd",
   "metadata": {},
   "outputs": [
    {
     "name": "stdout",
     "output_type": "stream",
     "text": [
      "Sum is: 9\n",
      "Mean is: 3.0\n",
      "Standard Deviation is: 0.816496580927726\n",
      "Max is: 4\n",
      "Min is: 2\n"
     ]
    }
   ],
   "source": [
    "print(\"Sum is:\",np.sum(arr1))\n",
    "print(\"Mean is:\",np.mean(arr1))\n",
    "print(\"Standard Deviation is:\",np.std(arr1))\n",
    "print(\"Max is:\",np.max(arr1))\n",
    "print(\"Min is:\",np.min(arr1))"
   ]
  },
  {
   "cell_type": "code",
   "execution_count": 56,
   "id": "e8ba32dd",
   "metadata": {},
   "outputs": [
    {
     "name": "stdout",
     "output_type": "stream",
     "text": [
      "[[1 2 3]\n",
      " [2 3 4]]\n",
      "[1 2 3 2 3 4]\n"
     ]
    }
   ],
   "source": [
    "a=np.array([1,2,3])\n",
    "b=np.array([2,3,4])\n",
    "print(np.vstack((a,b)))\n",
    "print(np.hstack((a,b)))"
   ]
  },
  {
   "cell_type": "code",
   "execution_count": 57,
   "id": "999babc9",
   "metadata": {},
   "outputs": [
    {
     "data": {
      "text/plain": [
       "[array([1, 2]), array([3, 4]), array([5, 6])]"
      ]
     },
     "execution_count": 57,
     "metadata": {},
     "output_type": "execute_result"
    }
   ],
   "source": [
    "arr=np.array([1,2,3,4,5,6])\n",
    "np.array_split(arr,3)"
   ]
  },
  {
   "cell_type": "code",
   "execution_count": 58,
   "id": "fb4361ff",
   "metadata": {},
   "outputs": [
    {
     "name": "stdout",
     "output_type": "stream",
     "text": [
      "[10  2  3  4]\n",
      "[1 2 3 4]\n"
     ]
    }
   ],
   "source": [
    "arr=np.array([1,2,3,4])\n",
    "view=arr.view()\n",
    "view[0]=10\n",
    "print(arr)\n",
    "arr=np.array([1,2,3,4])\n",
    "cp=arr.copy()\n",
    "cp[0]=100\n",
    "print(arr)"
   ]
  },
  {
   "cell_type": "code",
   "execution_count": 60,
   "id": "dadc33e6",
   "metadata": {},
   "outputs": [
    {
     "name": "stdout",
     "output_type": "stream",
     "text": [
      "[1 2 3 4]\n"
     ]
    }
   ],
   "source": [
    "np.save('arr.npy',arr)\n",
    "loaded_arr=np.load('arr.npy')\n",
    "print(loaded_arr)"
   ]
  },
  {
   "cell_type": "code",
   "execution_count": null,
   "id": "a38d1b02",
   "metadata": {},
   "outputs": [],
   "source": []
  }
 ],
 "metadata": {
  "kernelspec": {
   "display_name": "Python 3 (ipykernel)",
   "language": "python",
   "name": "python3"
  },
  "language_info": {
   "codemirror_mode": {
    "name": "ipython",
    "version": 3
   },
   "file_extension": ".py",
   "mimetype": "text/x-python",
   "name": "python",
   "nbconvert_exporter": "python",
   "pygments_lexer": "ipython3",
   "version": "3.11.5"
  }
 },
 "nbformat": 4,
 "nbformat_minor": 5
}
