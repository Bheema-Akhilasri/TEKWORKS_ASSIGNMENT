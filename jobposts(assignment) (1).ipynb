{
 "cells": [
  {
   "cell_type": "code",
   "execution_count": 80,
   "id": "bc4ebfa3-e0b0-47f1-947f-fb1eb3c0c9bf",
   "metadata": {},
   "outputs": [],
   "source": [
    "#importing pandas library\n",
    "import pandas as pd"
   ]
  },
  {
   "cell_type": "code",
   "execution_count": 81,
   "id": "bfb48535-96d8-4092-a108-027997457124",
   "metadata": {},
   "outputs": [
    {
     "name": "stdout",
     "output_type": "stream",
     "text": [
      "                                             jobpost          date  \\\n",
      "0  AMERIA Investment Consulting Company\\r\\nJOB TI...   Jan 5, 2004   \n",
      "1  International Research & Exchanges Board (IREX...   Jan 7, 2004   \n",
      "2  Caucasus Environmental NGO Network (CENN)\\r\\nJ...   Jan 7, 2004   \n",
      "3  Manoff Group\\r\\nJOB TITLE:  BCC Specialist\\r\\n...   Jan 7, 2004   \n",
      "4  Yerevan Brandy Company\\r\\nJOB TITLE:  Software...  Jan 10, 2004   \n",
      "\n",
      "                                               Title  \\\n",
      "0                            Chief Financial Officer   \n",
      "1  Full-time Community Connections Intern (paid i...   \n",
      "2                                Country Coordinator   \n",
      "3                                     BCC Specialist   \n",
      "4                                 Software Developer   \n",
      "\n",
      "                                           Company AnnouncementCode Term  \\\n",
      "0             AMERIA Investment Consulting Company              NaN  NaN   \n",
      "1  International Research & Exchanges Board (IREX)              NaN  NaN   \n",
      "2        Caucasus Environmental NGO Network (CENN)              NaN  NaN   \n",
      "3                                     Manoff Group              NaN  NaN   \n",
      "4                           Yerevan Brandy Company              NaN  NaN   \n",
      "\n",
      "  Eligibility Audience StartDate                               Duration  ...  \\\n",
      "0         NaN      NaN       NaN                                    NaN  ...   \n",
      "1         NaN      NaN       NaN                               3 months  ...   \n",
      "2         NaN      NaN       NaN  Renewable annual contract\\r\\nPOSITION  ...   \n",
      "3         NaN      NaN       NaN                                    NaN  ...   \n",
      "4         NaN      NaN       NaN                                    NaN  ...   \n",
      "\n",
      "  Salary                                       ApplicationP OpeningDate  \\\n",
      "0    NaN  To apply for this position, please submit a\\r\\...         NaN   \n",
      "1    NaN  Please submit a cover letter and resume to:\\r\\...         NaN   \n",
      "2    NaN  Please send resume or CV toursula.kazarian@......         NaN   \n",
      "3    NaN  Please send cover letter and resume to Amy\\r\\n...         NaN   \n",
      "4    NaN  Successful candidates should submit\\r\\n- CV; \\...         NaN   \n",
      "\n",
      "                                        Deadline Notes  \\\n",
      "0                                26 January 2004   NaN   \n",
      "1                                12 January 2004   NaN   \n",
      "2  20 January 2004\\r\\nSTART DATE:  February 2004   NaN   \n",
      "3      23 January 2004\\r\\nSTART DATE:  Immediate   NaN   \n",
      "4                         20 January 2004, 18:00   NaN   \n",
      "\n",
      "                                              AboutC Attach  Year Month     IT  \n",
      "0                                                NaN    NaN  2004     1  False  \n",
      "1  The International Research & Exchanges Board (...    NaN  2004     1  False  \n",
      "2  The Caucasus Environmental NGO Network is a\\r\\...    NaN  2004     1  False  \n",
      "3                                                NaN    NaN  2004     1  False  \n",
      "4                                                NaN    NaN  2004     1   True  \n",
      "\n",
      "[5 rows x 24 columns]\n"
     ]
    }
   ],
   "source": [
    "#Load the dataset and display first 5 rows\n",
    "job=pd.read_csv(\"data job posts.csv\")\n",
    "print(job.head())"
   ]
  },
  {
   "cell_type": "code",
   "execution_count": 82,
   "id": "cbcdd241-ce90-420b-8fe2-0459cf86664c",
   "metadata": {},
   "outputs": [
    {
     "data": {
      "text/plain": [
       "jobpost                 0\n",
       "date                    0\n",
       "Title                  28\n",
       "Company                 7\n",
       "AnnouncementCode    17793\n",
       "Term                11325\n",
       "Eligibility         14071\n",
       "Audience            18361\n",
       "StartDate            9326\n",
       "Duration             8203\n",
       "Location               32\n",
       "JobDescription       3892\n",
       "JobRequirment        2522\n",
       "RequiredQual          484\n",
       "Salary               9379\n",
       "ApplicationP           60\n",
       "OpeningDate           706\n",
       "Deadline               65\n",
       "Notes               16790\n",
       "AboutC               6531\n",
       "Attach              17442\n",
       "Year                    0\n",
       "Month                   0\n",
       "IT                      0\n",
       "dtype: int64"
      ]
     },
     "execution_count": 82,
     "metadata": {},
     "output_type": "execute_result"
    }
   ],
   "source": [
    "#Finding the null values\n",
    "job.isna().sum()"
   ]
  },
  {
   "cell_type": "code",
   "execution_count": 83,
   "id": "06a2cbbf-35cc-4367-a251-130b4c7650bd",
   "metadata": {},
   "outputs": [
    {
     "name": "stdout",
     "output_type": "stream",
     "text": [
      "39\n",
      "0\n"
     ]
    }
   ],
   "source": [
    "#checking the duplicate values and dropping them\n",
    "print(job.duplicated().sum())\n",
    "job=job.drop_duplicates()\n",
    "print(job.duplicated().sum())"
   ]
  },
  {
   "cell_type": "code",
   "execution_count": 84,
   "id": "f50ff67f-ed15-4341-a8fa-a0b31b92ba4c",
   "metadata": {},
   "outputs": [],
   "source": [
    "#Dropping the columns AnnouncementCode,Attach,Notes \n",
    "job.drop(columns=['AnnouncementCode','Attach','Notes'], axis=1, inplace=True)"
   ]
  },
  {
   "cell_type": "code",
   "execution_count": 85,
   "id": "92eae529-85e8-41c2-9c77-8e2952ae7d3a",
   "metadata": {},
   "outputs": [
    {
     "data": {
      "text/plain": [
       "jobpost           object\n",
       "date              object\n",
       "Title             object\n",
       "Company           object\n",
       "Term              object\n",
       "Eligibility       object\n",
       "Audience          object\n",
       "StartDate         object\n",
       "Duration          object\n",
       "Location          object\n",
       "JobDescription    object\n",
       "JobRequirment     object\n",
       "RequiredQual      object\n",
       "Salary            object\n",
       "ApplicationP      object\n",
       "OpeningDate       object\n",
       "Deadline          object\n",
       "AboutC            object\n",
       "Year               int64\n",
       "Month              int64\n",
       "IT                  bool\n",
       "dtype: object"
      ]
     },
     "execution_count": 85,
     "metadata": {},
     "output_type": "execute_result"
    }
   ],
   "source": [
    "#checking the datatypes of the columns\n",
    "job.dtypes"
   ]
  },
  {
   "cell_type": "code",
   "execution_count": 86,
   "id": "94f2a0a4-1f31-4d25-856b-8ce870b4270b",
   "metadata": {},
   "outputs": [],
   "source": [
    "#Replacing the null values with mode\n",
    "job['Term']=job['Term'].fillna(job['Term'].mode()[0])\n",
    "job['Eligibility']=job['Eligibility'].fillna(job['Eligibility'].mode()[0])\n",
    "job['Audience']=job['Audience'].fillna(job['Audience'].mode()[0])\n",
    "job['Location']=job['Location'].fillna(job['Location'].mode()[0])\n",
    "job['RequiredQual']=job['RequiredQual'].fillna(job['RequiredQual'].mode()[0])\n",
    "job['JobDescription']=job['JobDescription'].fillna(job['JobDescription'].mode()[0])\n",
    "job['JobRequirment']=job['JobRequirment'].fillna(job['JobRequirment'].mode()[0])\n",
    "job['ApplicationP']=job['ApplicationP'].fillna(job['ApplicationP'].mode()[0])"
   ]
  },
  {
   "cell_type": "code",
   "execution_count": 87,
   "id": "876a68bd-c4aa-4824-8eb6-35c3d5c1f780",
   "metadata": {},
   "outputs": [],
   "source": [
    "import re\n",
    "def clean_text(text):\n",
    "    # Remove HTML tags\n",
    "    text = re.sub(r'<.*?>', '', text)\n",
    "    text = re.sub(r'[^a-zA-Z0-9\\s]', '', text)\n",
    "    # Remove excessive whitespace\n",
    "    text = re.sub(r'\\s+', ' ', text).strip()\n",
    "    return text\n",
    "job['JobDescription'] = job['JobDescription'].apply(clean_text)\n",
    "job['JobRequirment'] = job['JobRequirment'].apply(clean_text)\n"
   ]
  },
  {
   "cell_type": "code",
   "execution_count": 9,
   "id": "371af419-bc3e-48a9-a080-5c90275e4fbb",
   "metadata": {},
   "outputs": [
    {
     "name": "stdout",
     "output_type": "stream",
     "text": [
      "Collecting nltk\n",
      "  Downloading nltk-3.9.1-py3-none-any.whl.metadata (2.9 kB)\n",
      "Requirement already satisfied: click in c:\\users\\akhil\\appdata\\local\\programs\\python\\python311\\lib\\site-packages (from nltk) (8.1.7)\n",
      "Collecting joblib (from nltk)\n",
      "  Downloading joblib-1.4.2-py3-none-any.whl.metadata (5.4 kB)\n",
      "Collecting regex>=2021.8.3 (from nltk)\n",
      "  Downloading regex-2024.11.6-cp311-cp311-win_amd64.whl.metadata (41 kB)\n",
      "     ---------------------------------------- 0.0/41.5 kB ? eta -:--:--\n",
      "     ---------------------------------------- 41.5/41.5 kB 2.0 MB/s eta 0:00:00\n",
      "Collecting tqdm (from nltk)\n",
      "  Downloading tqdm-4.67.1-py3-none-any.whl.metadata (57 kB)\n",
      "     ---------------------------------------- 0.0/57.7 kB ? eta -:--:--\n",
      "     ----------------------------------- ---- 51.2/57.7 kB 2.6 MB/s eta 0:00:01\n",
      "     -------------------------------------- 57.7/57.7 kB 752.9 kB/s eta 0:00:00\n",
      "Requirement already satisfied: colorama in c:\\users\\akhil\\appdata\\local\\programs\\python\\python311\\lib\\site-packages (from click->nltk) (0.4.6)\n",
      "Downloading nltk-3.9.1-py3-none-any.whl (1.5 MB)\n",
      "   ---------------------------------------- 0.0/1.5 MB ? eta -:--:--\n",
      "   ---- ----------------------------------- 0.2/1.5 MB 5.0 MB/s eta 0:00:01\n",
      "   ----------- ---------------------------- 0.4/1.5 MB 5.5 MB/s eta 0:00:01\n",
      "   ------------------- -------------------- 0.7/1.5 MB 5.7 MB/s eta 0:00:01\n",
      "   --------------------------------- ------ 1.2/1.5 MB 6.6 MB/s eta 0:00:01\n",
      "   ---------------------------------------  1.5/1.5 MB 6.9 MB/s eta 0:00:01\n",
      "   ---------------------------------------- 1.5/1.5 MB 6.0 MB/s eta 0:00:00\n",
      "Downloading regex-2024.11.6-cp311-cp311-win_amd64.whl (274 kB)\n",
      "   ---------------------------------------- 0.0/274.1 kB ? eta -:--:--\n",
      "   ---------------------------------------- 274.1/274.1 kB 5.6 MB/s eta 0:00:00\n",
      "Downloading joblib-1.4.2-py3-none-any.whl (301 kB)\n",
      "   ---------------------------------------- 0.0/301.8 kB ? eta -:--:--\n",
      "   ------------------------------------- -- 286.7/301.8 kB 8.9 MB/s eta 0:00:01\n",
      "   ------------------------------------- -- 286.7/301.8 kB 8.9 MB/s eta 0:00:01\n",
      "   ------------------------------------- -- 286.7/301.8 kB 8.9 MB/s eta 0:00:01\n",
      "   ------------------------------------- -- 286.7/301.8 kB 8.9 MB/s eta 0:00:01\n",
      "   ------------------------------------- -- 286.7/301.8 kB 8.9 MB/s eta 0:00:01\n",
      "   -------------------------------------  297.0/301.8 kB 965.4 kB/s eta 0:00:01\n",
      "   -------------------------------------- 301.8/301.8 kB 931.6 kB/s eta 0:00:00\n",
      "Downloading tqdm-4.67.1-py3-none-any.whl (78 kB)\n",
      "   ---------------------------------------- 0.0/78.5 kB ? eta -:--:--\n",
      "   ---------------------------------------- 78.5/78.5 kB 4.3 MB/s eta 0:00:00\n",
      "Installing collected packages: tqdm, regex, joblib, nltk\n",
      "Successfully installed joblib-1.4.2 nltk-3.9.1 regex-2024.11.6 tqdm-4.67.1\n",
      "Note: you may need to restart the kernel to use updated packages.\n"
     ]
    },
    {
     "name": "stderr",
     "output_type": "stream",
     "text": [
      "\n",
      "[notice] A new release of pip is available: 24.1.1 -> 25.0\n",
      "[notice] To update, run: python.exe -m pip install --upgrade pip\n"
     ]
    }
   ],
   "source": [
    "pip install nltk\n"
   ]
  },
  {
   "cell_type": "code",
   "execution_count": 88,
   "id": "2ee71f11-2c74-4bd4-82f6-f262a852754b",
   "metadata": {},
   "outputs": [
    {
     "name": "stderr",
     "output_type": "stream",
     "text": [
      "[nltk_data] Downloading package punkt_tab to\n",
      "[nltk_data]     C:\\Users\\akhil\\AppData\\Roaming\\nltk_data...\n",
      "[nltk_data]   Package punkt_tab is already up-to-date!\n"
     ]
    }
   ],
   "source": [
    "#Tokenizing and lowercasing for NLP tasks\n",
    "import nltk\n",
    "nltk.download('punkt_tab')\n",
    "from nltk.tokenize import word_tokenize\n",
    "job['JobDescription'] = job['JobDescription'].apply(lambda x: word_tokenize(x.lower()))\n",
    "job['JobRequirment'] = job['JobRequirment'].apply(lambda x: word_tokenize(x.lower()))\n"
   ]
  },
  {
   "cell_type": "code",
   "execution_count": 89,
   "id": "86da2c1f-a7b6-4b44-89e3-786c151a394e",
   "metadata": {},
   "outputs": [
    {
     "data": {
      "text/plain": [
       "JobDescription\n",
       "[the, incumbent, will, work, under, the, direct, supervision, of, the, company, president, and, be, primarily, responsible, for, covering, the, front, desk]                                                                                                                                                                                                                                                                                                                                                                                                                                                      3951\n",
       "[under, the, direct, supervision, of, the, company, president, and, in, association, with, the, contracted, accounting, company, the, selected, candidate, will, perform, routine, accounting, as, well, as, some, administrative, duties]                                                                                                                                                                                                                                                                                                                                                                          37\n",
       "[the, primary, objective, of, this, position, is, to, produce, required, product, in, conjunction, with, team, members, insuring, it, is, of, high, quality, and, is, timely]                                                                                                                                                                                                                                                                                                                                                                                                                                       28\n",
       "[the, incumbent, will, be, responsible, for, unit, test, development, and, code, specification, writing]                                                                                                                                                                                                                                                                                                                                                                                                                                                                                                            23\n",
       "[epam, systems, is, actively, looking, for, java, developers, for, complex, and, longterm, projects, the, position, entails, working, with, sun, and, ibm, products, portal, solutions, the, latest, java, technologies]                                                                                                                                                                                                                                                                                                                                                                                            22\n",
       "                                                                                                                                                                                                                                                                                                                                                                                                                                                                                                                                                                                                                  ... \n",
       "[this, position, will, manage, the, developmentimplementation, of, housing, finance, projects, which, will, direct, housing, capital, to, families, who, do, not, have, access, to, affordable, housing, credit, in, armenia, the, incumbent, will, report, to, the, executive, director]                                                                                                                                                                                                                                                                                                                            1\n",
       "[the, incumbent, will, be, responsible, for, the, development, implementation, monitoring, from, a, technical, perspective, construction, programs, supervised, by, the, national, office, no, ensuring, that, the, projects, meet, the, habitat, standards, of, simple, decent, and, affordable, sdathe, incumbent, will, report, to, the, executive, director]                                                                                                                                                                                                                                                     1\n",
       "[the, telecom, technician, is, responsible, for, supervision, of, the, bss, base, station, subsystem, implementation, process]                                                                                                                                                                                                                                                                                                                                                                                                                                                                                       1\n",
       "[undpgef, armenia, improving, the, energy, efficiency, of, municipal, heating, and, hot, water, supply, project, under, the, overall, supervision, of, the, project, national, coordinator, and, the, direct, supervision, of, project, manager, and, as, a, member, of, the, project, implementation, team, the, incumbent, will, support, the, project, team, and, corresponding, national, counterparts, in, identification, of, legal, and, regulatory, barriers, for, implementation, of, energy, efficiency, measures, and, make, recommendation, on, required, changes, in, the, national, legislation]       1\n",
       "[kamurj, uco, cjsc, is, looking, for, a, lawyer, in, legal, department, the, incumbent, will, mainly, be, responsible, for, the, organizations, internal, legal, service, the, development, of, the, internal, regulation, projects, adopted, by, the, board, of, the, organization, supporting, in, the, functions, of, the, board, as, well, as, proper, implementation, of, other, functions, related, to, the, office, work]                                                                                                                                                                                     1\n",
       "Name: count, Length: 12623, dtype: int64"
      ]
     },
     "execution_count": 89,
     "metadata": {},
     "output_type": "execute_result"
    }
   ],
   "source": [
    "job['JobDescription'].value_counts()"
   ]
  },
  {
   "cell_type": "code",
   "execution_count": 90,
   "id": "7766b2c2-8e41-49bd-9552-6eebd087e8bb",
   "metadata": {},
   "outputs": [],
   "source": [
    "#Exracting key skills\n",
    "skills_list = ['python', 'java', 'sql', 'javascript', 'html', 'css', 'c++', 'machine learning', 'data analysis', 'r']\n",
    "def extract_skills(text, skills):\n",
    "    found_skills = [skill for skill in skills if skill in text]\n",
    "    return found_skills\n",
    "job['JobDescription_skills'] = job['JobDescription'].apply(lambda x: extract_skills(' '.join(x), skills_list))\n",
    "job['JobRequirment_skills'] = job['JobRequirment'].apply(lambda x: extract_skills(' '.join(x), skills_list))\n"
   ]
  },
  {
   "cell_type": "code",
   "execution_count": 91,
   "id": "d40e94e1-8ee7-4f47-99f1-28157e3450cc",
   "metadata": {},
   "outputs": [
    {
     "data": {
      "text/plain": [
       "JobDescription_skills\n",
       "[r]                                              18378\n",
       "[java, r]                                          303\n",
       "[sql, r]                                           125\n",
       "[data analysis, r]                                  35\n",
       "[]                                                  30\n",
       "[java, javascript, html, css, r]                    16\n",
       "[java, javascript, r]                               12\n",
       "[html, r]                                            9\n",
       "[css, r]                                             8\n",
       "[python, java, r]                                    7\n",
       "[html, css, r]                                       7\n",
       "[java, javascript, html, r]                          7\n",
       "[java, sql, javascript, r]                           6\n",
       "[java, javascript, css, r]                           6\n",
       "[java, sql, r]                                       3\n",
       "[python, r]                                          3\n",
       "[machine learning, r]                                2\n",
       "[java, sql, javascript, html, r]                     1\n",
       "[machine learning, data analysis, r]                 1\n",
       "[sql, html, r]                                       1\n",
       "[python, java, sql, javascript, html, css, r]        1\n",
       "[sql, html, css, r]                                  1\n",
       "Name: count, dtype: int64"
      ]
     },
     "execution_count": 91,
     "metadata": {},
     "output_type": "execute_result"
    }
   ],
   "source": [
    "job['JobDescription_skills'].value_counts()"
   ]
  },
  {
   "cell_type": "code",
   "execution_count": 92,
   "id": "c87de437-b03e-4923-8e58-516d84f3f656",
   "metadata": {},
   "outputs": [
    {
     "data": {
      "text/plain": [
       "JobRequirment_skills\n",
       "[r]                                      18444\n",
       "[sql, r]                                   130\n",
       "[data analysis, r]                          72\n",
       "[java, r]                                   70\n",
       "[java, javascript, html, css, r]            60\n",
       "[html, r]                                   30\n",
       "[html, css, r]                              29\n",
       "[]                                          18\n",
       "[java, sql, javascript, r]                  14\n",
       "[css, r]                                    13\n",
       "[java, sql, r]                              11\n",
       "[sql, html, r]                               9\n",
       "[java, javascript, html, r]                  9\n",
       "[java, javascript, r]                        8\n",
       "[python, r]                                  8\n",
       "[sql, data analysis, r]                      7\n",
       "[java, sql, javascript, html, r]             5\n",
       "[sql]                                        5\n",
       "[java]                                       4\n",
       "[java, sql, javascript, html, css, r]        4\n",
       "[java, sql, html, css, r]                    3\n",
       "[python, java, r]                            2\n",
       "[java, sql, javascript, css, r]              2\n",
       "[sql, html, css, r]                          2\n",
       "[java, sql, html, r]                         1\n",
       "[html, data analysis, r]                     1\n",
       "[java, html, r]                              1\n",
       "Name: count, dtype: int64"
      ]
     },
     "execution_count": 92,
     "metadata": {},
     "output_type": "execute_result"
    }
   ],
   "source": [
    "job['JobRequirment_skills'].value_counts()"
   ]
  },
  {
   "cell_type": "code",
   "execution_count": null,
   "id": "a9a359bd-3acb-4096-b77a-bb03060226e8",
   "metadata": {},
   "outputs": [],
   "source": [
    "\n"
   ]
  },
  {
   "cell_type": "code",
   "execution_count": 93,
   "id": "d6d18bea-178b-41b9-88df-88b0841e16c0",
   "metadata": {},
   "outputs": [
    {
     "data": {
      "text/plain": [
       "Title\n",
       "Accountant                                                 328\n",
       "Chief Accountant                                           219\n",
       "Medical Representative                                     216\n",
       "Sales Manager                                              164\n",
       "Administrative Assistant                                   155\n",
       "                                                          ... \n",
       "Software Developer (Ajax, PHP)                               1\n",
       "Analyst, Analysis Division, Financial Monitoring Center      1\n",
       "Regulatory Affairs & Medical Manager                         1\n",
       "Controlling Specialist                                       1\n",
       "Head of Online Sales Department                              1\n",
       "Name: count, Length: 8636, dtype: int64"
      ]
     },
     "execution_count": 93,
     "metadata": {},
     "output_type": "execute_result"
    }
   ],
   "source": [
    "job['Title'].value_counts()"
   ]
  },
  {
   "cell_type": "code",
   "execution_count": 94,
   "id": "02d42d2a-0172-4a82-8c76-8a5bb77c975a",
   "metadata": {},
   "outputs": [
    {
     "data": {
      "text/plain": [
       "modified_Term\n",
       "Full-Time                                                                 17835\n",
       "Part-Time                                                                   450\n",
       "Long-Term                                                                   138\n",
       "permanent                                                                    51\n",
       "full time salaried   40 hours per week                                       15\n",
       "                                                                          ...  \n",
       "six months with 2 month probation period (with possible\\r\\nextension).        1\n",
       "working hours: 09:00  19:00 from monday to friday.                            1\n",
       "long term with 1 month probation period.                                      1\n",
       "12 months   renewable                                                         1\n",
       "full time 40 48 hours per week; monday  saturday                              1\n",
       "Name: count, Length: 285, dtype: int64"
      ]
     },
     "execution_count": 94,
     "metadata": {},
     "output_type": "execute_result"
    }
   ],
   "source": [
    "#Standardize Term Column\n",
    "import re\n",
    "def standardize_term(term):\n",
    "    term = term.lower().replace(\"-\", \" \") \n",
    "    if re.fullmatch(r'(?i)full[-\\s]?time|ft', term.strip()):\n",
    "        return \"Full-Time\"\n",
    "    elif re.fullmatch(r'(?i)long[-\\s]?term|ft', term.strip()):\n",
    "        return \"Long-Term\"\n",
    "    elif \"part\" in term:\n",
    "        return \"Part-Time\"\n",
    "    else:\n",
    "        return term\n",
    "job['modified_Term'] = job['Term'].apply(standardize_term)\n",
    "job['modified_Term'].value_counts()"
   ]
  },
  {
   "cell_type": "code",
   "execution_count": 98,
   "id": "c31a501f-cf7d-487d-8443-805c903d4785",
   "metadata": {},
   "outputs": [
    {
     "name": "stdout",
     "output_type": "stream",
     "text": [
      "Collecting fuzzywuzzy\n",
      "  Downloading fuzzywuzzy-0.18.0-py2.py3-none-any.whl.metadata (4.9 kB)\n",
      "Downloading fuzzywuzzy-0.18.0-py2.py3-none-any.whl (18 kB)\n",
      "Installing collected packages: fuzzywuzzy\n",
      "Successfully installed fuzzywuzzy-0.18.0\n",
      "Note: you may need to restart the kernel to use updated packages.\n"
     ]
    },
    {
     "name": "stderr",
     "output_type": "stream",
     "text": [
      "\n",
      "[notice] A new release of pip is available: 24.1.1 -> 25.0\n",
      "[notice] To update, run: python.exe -m pip install --upgrade pip\n"
     ]
    }
   ],
   "source": [
    "pip install fuzzywuzzy"
   ]
  },
  {
   "cell_type": "code",
   "execution_count": 100,
   "id": "516aa4be-f2dc-4aab-a261-12a6ebba80cd",
   "metadata": {},
   "outputs": [
    {
     "name": "stdout",
     "output_type": "stream",
     "text": [
      "                                                 jobpost          date  \\\n",
      "0      AMERIA Investment Consulting Company\\r\\nJOB TI...   Jan 5, 2004   \n",
      "1      International Research & Exchanges Board (IREX...   Jan 7, 2004   \n",
      "2      Caucasus Environmental NGO Network (CENN)\\r\\nJ...   Jan 7, 2004   \n",
      "3      Manoff Group\\r\\nJOB TITLE:  BCC Specialist\\r\\n...   Jan 7, 2004   \n",
      "4      Yerevan Brandy Company\\r\\nJOB TITLE:  Software...  Jan 10, 2004   \n",
      "...                                                  ...           ...   \n",
      "18996  Technolinguistics NGO\\r\\n\\r\\n\\r\\nTITLE:  Senio...  Dec 28, 2015   \n",
      "18997  \"Coca-Cola Hellenic Bottling Company Armenia\" ...  Dec 30, 2015   \n",
      "18998  \"Coca-Cola Hellenic Bottling Company Armenia\" ...  Dec 30, 2015   \n",
      "18999  San Lazzaro   LLC\\r\\n\\r\\n\\r\\nTITLE:  Head of O...  Dec 30, 2015   \n",
      "19000  \"Kamurj\" UCO CJSC\\r\\n\\r\\n\\r\\nTITLE:  Lawyer in...  Dec 30, 2015   \n",
      "\n",
      "                                                   Title  \\\n",
      "0                                Chief Financial Officer   \n",
      "1      Full-time Community Connections Intern (paid i...   \n",
      "2                                    Country Coordinator   \n",
      "3                                         BCC Specialist   \n",
      "4                                     Software Developer   \n",
      "...                                                  ...   \n",
      "18996                    Senior Creative UX/ UI Designer   \n",
      "18997                       Category Development Manager   \n",
      "18998                      Operational Marketing Manager   \n",
      "18999                    Head of Online Sales Department   \n",
      "19000                         Lawyer in Legal Department   \n",
      "\n",
      "                                                 Company       Term  \\\n",
      "0                   AMERIA Investment Consulting Company  Full time   \n",
      "1        International Research & Exchanges Board (IREX)  Full time   \n",
      "2              Caucasus Environmental NGO Network (CENN)  Full time   \n",
      "3                                           Manoff Group  Full time   \n",
      "4                                 Yerevan Brandy Company  Full time   \n",
      "...                                                  ...        ...   \n",
      "18996                              Technolinguistics NGO  Full-time   \n",
      "18997  \"Coca-Cola Hellenic Bottling Company Armenia\" ...  Full-time   \n",
      "18998  \"Coca-Cola Hellenic Bottling Company Armenia\" ...  Full-time   \n",
      "18999                                  San Lazzaro   LLC  Full time   \n",
      "19000                                  \"Kamurj\" UCO CJSC  Full-time   \n",
      "\n",
      "                         Eligibility                   Audience StartDate  \\\n",
      "0           All qualified candidates  All interested candidates       NaN   \n",
      "1           All qualified candidates  All interested candidates       NaN   \n",
      "2           All qualified candidates  All interested candidates       NaN   \n",
      "3           All qualified candidates  All interested candidates       NaN   \n",
      "4           All qualified candidates  All interested candidates       NaN   \n",
      "...                              ...                        ...       ...   \n",
      "18996       All qualified candidates  All interested candidates       NaN   \n",
      "18997  All interested professionals.  All interested candidates      ASAP   \n",
      "18998  All interested professionals.  All interested candidates      ASAP   \n",
      "18999       All qualified candidates  All interested candidates       NaN   \n",
      "19000       All qualified candidates  All interested candidates       NaN   \n",
      "\n",
      "                                             Duration  \\\n",
      "0                                                 NaN   \n",
      "1                                            3 months   \n",
      "2               Renewable annual contract\\r\\nPOSITION   \n",
      "3                                                 NaN   \n",
      "4                                                 NaN   \n",
      "...                                               ...   \n",
      "18996                                       Long-term   \n",
      "18997  Long-term with a probation period of 3 months.   \n",
      "18998  Long-term with a probation period of 3 months.   \n",
      "18999                                       Long-term   \n",
      "19000                                      Indefinite   \n",
      "\n",
      "                                                Location  ...  \\\n",
      "0                                       Yerevan, Armenia  ...   \n",
      "1      IREX Armenia Main Office; Yerevan, Armenia \\r\\...  ...   \n",
      "2                                       Yerevan, Armenia  ...   \n",
      "3                                    Manila, Philippines  ...   \n",
      "4                                       Yerevan, Armenia  ...   \n",
      "...                                                  ...  ...   \n",
      "18996                                   Yerevan, Armenia  ...   \n",
      "18997                                   Yerevan, Armenia  ...   \n",
      "18998                                   Yerevan, Armenia  ...   \n",
      "18999                                   Yerevan, Armenia  ...   \n",
      "19000                                   Yerevan, Armenia  ...   \n",
      "\n",
      "            OpeningDate                                       Deadline  \\\n",
      "0                   NaN                                26 January 2004   \n",
      "1                   NaN                                12 January 2004   \n",
      "2                   NaN  20 January 2004\\r\\nSTART DATE:  February 2004   \n",
      "3                   NaN      23 January 2004\\r\\nSTART DATE:  Immediate   \n",
      "4                   NaN                         20 January 2004, 18:00   \n",
      "...                 ...                                            ...   \n",
      "18996  29 December 2015                                28 January 2016   \n",
      "18997  30 December 2015                                20 January 2016   \n",
      "18998  30 December 2015                                20 January 2016   \n",
      "18999  30 December 2015                                29 January 2016   \n",
      "19000  30 December 2015                                20 January 2016   \n",
      "\n",
      "                                                  AboutC  Year Month     IT  \\\n",
      "0                                                    NaN  2004     1  False   \n",
      "1      The International Research & Exchanges Board (...  2004     1  False   \n",
      "2      The Caucasus Environmental NGO Network is a\\r\\...  2004     1  False   \n",
      "3                                                    NaN  2004     1  False   \n",
      "4                                                    NaN  2004     1   True   \n",
      "...                                                  ...   ...   ...    ...   \n",
      "18996  As a company Technolinguistics has a mandate t...  2015    12  False   \n",
      "18997                                                NaN  2015    12  False   \n",
      "18998                                                NaN  2015    12  False   \n",
      "18999  San Lazzaro LLC works with several internation...  2015    12  False   \n",
      "19000  \"Kamurj\" UCO CJSC is providing micro and small...  2015    12  False   \n",
      "\n",
      "      JobDescription_skills JobRequirment_skills  modified_Term  \\\n",
      "0                       [r]                  [r]      Full-Time   \n",
      "1                       [r]                  [r]      Full-Time   \n",
      "2                       [r]                  [r]      Full-Time   \n",
      "3                       [r]                  [r]      Full-Time   \n",
      "4                       [r]             [sql, r]      Full-Time   \n",
      "...                     ...                  ...            ...   \n",
      "18996                   [r]                  [r]      Full-Time   \n",
      "18997                   [r]                  [r]      Full-Time   \n",
      "18998                   [r]                  [r]      Full-Time   \n",
      "18999                   [r]                  [r]      Full-Time   \n",
      "19000                   [r]                  [r]      Full-Time   \n",
      "\n",
      "                                         NormalizedTitle  \n",
      "0                                Chief Financial Officer  \n",
      "1      Full-time Community Connections Intern (paid i...  \n",
      "2                                    Country Coordinator  \n",
      "3                                         BCC Specialist  \n",
      "4                                     Software Developer  \n",
      "...                                                  ...  \n",
      "18996                    Senior Creative UX/ UI Designer  \n",
      "18997                       Category Development Manager  \n",
      "18998                      Operational Marketing Manager  \n",
      "18999                    Head of Online Sales Department  \n",
      "19000                         Lawyer in Legal Department  \n",
      "\n",
      "[18962 rows x 25 columns]\n"
     ]
    }
   ],
   "source": [
    "#Normalizing Column Title\n",
    "import pandas as pd\n",
    "title_normalization_dict = {\n",
    "    \"Software Eng.\": \"Software Engineer\",\n",
    "    \"Sr. Dev\": \"Senior Developer\",\n",
    "    \"Sr. Engineer\": \"Senior Engineer\",\n",
    "    \"Data Sci.\": \"Data Scientist\",\n",
    "    \"Mgr\": \"Manager\",\n",
    "    \"Dev\": \"Developer\",\n",
    "    \"Junior Dev\": \"Junior Developer\"\n",
    "}\n",
    "def normalize_title(title):\n",
    "    return title_normalization_dict.get(title, title)  # Use the full title if found, otherwise keep original\n",
    "\n",
    "# Apply function\n",
    "job['NormalizedTitle'] = job['Title'].apply(normalize_title)\n",
    "\n",
    "print(job)"
   ]
  },
  {
   "cell_type": "code",
   "execution_count": 115,
   "id": "08f10ee3-7233-491c-9410-097f43ed75de",
   "metadata": {},
   "outputs": [],
   "source": [
    "#Replacing the null values with mode\n",
    "job['StartDate']=job['StartDate'].fillna(job['StartDate'].mode()[0])\n",
    "job['OpeningDate']=job['OpeningDate'].fillna(job['OpeningDate'].mode()[0])\n",
    "job['Deadline']=job['Deadline'].fillna(job['Deadline'].mode()[0])\n",
    "job['Duration']=job['Duration'].fillna(job['Duration'].mode()[0])"
   ]
  },
  {
   "cell_type": "code",
   "execution_count": null,
   "id": "8655f415-867d-4b7a-a03d-fea4cbb4a785",
   "metadata": {},
   "outputs": [],
   "source": []
  },
  {
   "cell_type": "code",
   "execution_count": 116,
   "id": "2b044269-2e59-42c0-9aa1-6bb9913daee8",
   "metadata": {},
   "outputs": [
    {
     "name": "stdout",
     "output_type": "stream",
     "text": [
      "0   2009-07-17\n",
      "1   2009-07-17\n",
      "2   2009-07-17\n",
      "3   2009-07-17\n",
      "4   2009-07-17\n",
      "Name: OpeningDate, dtype: datetime64[ns]\n",
      "0   2004-01-26\n",
      "1   2004-01-12\n",
      "2   2014-02-28\n",
      "3   2014-02-28\n",
      "4   2014-02-28\n",
      "Name: Deadline, dtype: datetime64[ns]\n"
     ]
    }
   ],
   "source": [
    "#Converting the OpeningDate \n",
    "job['OpeningDate'] = pd.to_datetime(job['OpeningDate'], format=\"%d %B %Y\",errors='coerce')\n",
    "print(job['OpeningDate'].head())\n",
    "\n",
    "job['Deadline'] = pd.to_datetime(job['Deadline'], format=\"%d %B %Y\",errors='coerce')\n",
    "print(job['Deadline'].head())\n"
   ]
  },
  {
   "cell_type": "code",
   "execution_count": 117,
   "id": "a464773b-b8dd-4f6d-aeb1-f89f9db6444b",
   "metadata": {},
   "outputs": [],
   "source": [
    "#Extracting Year and month from the columns\n",
    "job['OpeningYear'] = job['OpeningDate'].dt.year\n",
    "job['OpeningMonth'] = job['OpeningDate'].dt.month\n",
    "job['DeadlineYear'] = job['Deadline'].dt.year\n",
    "job['DeadlineMonth'] = job['Deadline'].dt.month"
   ]
  },
  {
   "cell_type": "code",
   "execution_count": 118,
   "id": "eac11fed-88c5-44bd-af61-321a9deb34d4",
   "metadata": {},
   "outputs": [
    {
     "data": {
      "text/plain": [
       "0       -1999\n",
       "1       -2013\n",
       "2        1687\n",
       "3        1687\n",
       "4        1687\n",
       "         ... \n",
       "18996      30\n",
       "18997      21\n",
       "18998      21\n",
       "18999      30\n",
       "19000      21\n",
       "Name: DaysLeftToApply, Length: 18934, dtype: int64"
      ]
     },
     "execution_count": 118,
     "metadata": {},
     "output_type": "execute_result"
    }
   ],
   "source": [
    "#Creating the column of DaysLeftToApply\n",
    "job['DaysLeftToApply'] = (job['Deadline'] - job['OpeningDate']).dt.days\n",
    "job['DaysLeftToApply']"
   ]
  },
  {
   "cell_type": "code",
   "execution_count": 119,
   "id": "bd27031d-89a2-48dc-af41-1ecafb1d132c",
   "metadata": {},
   "outputs": [
    {
     "name": "stdout",
     "output_type": "stream",
     "text": [
      "                                                Location    State      Country\n",
      "0                                       Yerevan, Armenia  Yerevan      Armenia\n",
      "1      IREX Armenia Main Office; Yerevan, Armenia \\r\\...  Unknown      Unknown\n",
      "2                                       Yerevan, Armenia  Yerevan      Armenia\n",
      "3                                    Manila, Philippines   Manila  Philippines\n",
      "4                                       Yerevan, Armenia  Yerevan      Armenia\n",
      "...                                                  ...      ...          ...\n",
      "18996                                   Yerevan, Armenia  Yerevan      Armenia\n",
      "18997                                   Yerevan, Armenia  Yerevan      Armenia\n",
      "18998                                   Yerevan, Armenia  Yerevan      Armenia\n",
      "18999                                   Yerevan, Armenia  Yerevan      Armenia\n",
      "19000                                   Yerevan, Armenia  Yerevan      Armenia\n",
      "\n",
      "[18934 rows x 3 columns]\n"
     ]
    }
   ],
   "source": [
    "import pandas as pd\n",
    "import numpy as np\n",
    "\n",
    "# Ensure the 'Location' column exists and handle missing values\n",
    "job['Location'] = job['Location'].fillna('')\n",
    "\n",
    "# Function to split Location into State and Country\n",
    "def split_location(location):\n",
    "    parts = location.split(',') \n",
    "    parts = [p.strip() for p in parts] \n",
    "    if len(parts) == 2:\n",
    "        return parts[0], parts[1]\n",
    "    elif len(parts) == 1:\n",
    "        return parts[0], 'Unknown'\n",
    "    else:\n",
    "        return 'Unknown', 'Unknown'  \n",
    "\n",
    "# Apply the function and create new columns\n",
    "job[['State', 'Country']] = job['Location'].apply(lambda x: pd.Series(split_location(x)))\n",
    "\n",
    "# Display results\n",
    "print(job[['Location', 'State', 'Country']])"
   ]
  },
  {
   "cell_type": "code",
   "execution_count": 106,
   "id": "0bd3004e-f1a2-4945-9852-c092076d30b8",
   "metadata": {},
   "outputs": [],
   "source": [
    "job=job.drop('AboutC', axis=1)"
   ]
  },
  {
   "cell_type": "code",
   "execution_count": 120,
   "id": "0d5050fb-8f73-4fab-b9a6-ede1c4a8af88",
   "metadata": {},
   "outputs": [
    {
     "data": {
      "text/plain": [
       "Salary\n",
       "0                                                                                                                     9338\n",
       "Competitive                                                                                                           1292\n",
       "Highly competitive                                                                                                     586\n",
       "Based on previous salary history, experience and\\r\\nprevailing market rates for comparable positions.                  270\n",
       "Negotiable                                                                                                             268\n",
       "                                                                                                                      ... \n",
       "Competitive salary+ benefits, including medical\\r\\ninsurance and fitness program.                                        1\n",
       "AMD equivalent of $350 USD ($500 after\\r\\nprobation).                                                                    1\n",
       "Depends on skills and experience.                                                                                        1\n",
       "Per assignment. According to market rates.                                                                               1\n",
       "800.000 AMD, based on previous salary history,\\r\\nexperience and prevailing market rates for comparable positions.       1\n",
       "Name: count, Length: 2691, dtype: int64"
      ]
     },
     "execution_count": 120,
     "metadata": {},
     "output_type": "execute_result"
    }
   ],
   "source": [
    "job['Salary']=job['Salary'].fillna(0)\n",
    "job['Salary'].value_counts()"
   ]
  },
  {
   "cell_type": "code",
   "execution_count": 121,
   "id": "8764f853-105c-4d4e-9630-2c9d6f0c3738",
   "metadata": {},
   "outputs": [],
   "source": [
    "job.dropna(subset='Title',inplace=True)"
   ]
  },
  {
   "cell_type": "code",
   "execution_count": 122,
   "id": "dfdd6005-84ad-4151-b54d-5aea59c00306",
   "metadata": {},
   "outputs": [],
   "source": [
    "job['Company']=job['Company'].fillna('UnKnown')"
   ]
  },
  {
   "cell_type": "code",
   "execution_count": null,
   "id": "30c431b5-9e11-4c50-9fc1-556a6e68dc1c",
   "metadata": {},
   "outputs": [],
   "source": []
  },
  {
   "cell_type": "code",
   "execution_count": 123,
   "id": "50310d69-6699-405a-8d1c-eb5b5a4b4b84",
   "metadata": {},
   "outputs": [
    {
     "name": "stdout",
     "output_type": "stream",
     "text": [
      "                                              jobpost          date  \\\n",
      "4   Yerevan Brandy Company\\r\\nJOB TITLE:  Software...  Jan 10, 2004   \n",
      "15  NetCall Communications\\r\\nJOB TITLE:  Network ...  Jan 15, 2004   \n",
      "19  Xalt LLC\\r\\nJOB TITLE:  Graphic Designer\\r\\nPO...  Jan 16, 2004   \n",
      "34  Caucasus Research Resource Center - Armenia\\r\\...  Jan 24, 2004   \n",
      "35  CIT Ltd.\\r\\nJOB TITLE:  Programmer\\r\\nPOSITION...  Jan 26, 2004   \n",
      "\n",
      "                            Title  \\\n",
      "4              Software Developer   \n",
      "15          Network Administrator   \n",
      "19               Graphic Designer   \n",
      "34  Demographic Analysis Workshop   \n",
      "35                     Programmer   \n",
      "\n",
      "                                        Company       Term  \\\n",
      "4                        Yerevan Brandy Company  Full time   \n",
      "15                       NetCall Communications  Full time   \n",
      "19                                     Xalt LLC  Full time   \n",
      "34  Caucasus Research Resource Center - Armenia  Full time   \n",
      "35                                     CIT Ltd.  Full time   \n",
      "\n",
      "                 Eligibility                   Audience StartDate   Duration  \\\n",
      "4   All qualified candidates  All interested candidates      ASAP  Long term   \n",
      "15  All qualified candidates  All interested candidates      ASAP  Long term   \n",
      "19  All qualified candidates  All interested candidates      ASAP  Long term   \n",
      "34  All qualified candidates  All interested candidates      ASAP     3 week   \n",
      "35  All qualified candidates  All interested candidates      ASAP  Long term   \n",
      "\n",
      "                                             Location  ...  \\\n",
      "4                                    Yerevan, Armenia  ...   \n",
      "15                                   Yerevan, Armenia  ...   \n",
      "19                                   Yerevan, Armenia  ...   \n",
      "34  Yerevan, Armenia\\r\\nDESCRIPTION:   Demographic...  ...   \n",
      "35                                   Yerevan, Armenia  ...   \n",
      "\n",
      "                  NormalizedTitle OpeningYear OpeningMonth DeadlineYear  \\\n",
      "4              Software Developer        2009            7         2014   \n",
      "15          Network Administrator        2009            7         2014   \n",
      "19               Graphic Designer        2009            7         2004   \n",
      "34  Demographic Analysis Workshop        2009            7         2004   \n",
      "35                     Programmer        2009            7         2004   \n",
      "\n",
      "   DeadlineMonth DaysLeftToApply    State  Country  Education_Level  \\\n",
      "4              2            1687  Yerevan  Armenia      Open to All   \n",
      "15             2            1687  Yerevan  Armenia      Open to All   \n",
      "19             1           -1999  Yerevan  Armenia      Open to All   \n",
      "34             1           -1995  Unknown  Unknown      Open to All   \n",
      "35             2           -1974  Yerevan  Armenia      Open to All   \n",
      "\n",
      "    Experience_Range  \n",
      "4        Entry-level  \n",
      "15       Entry-level  \n",
      "19       Entry-level  \n",
      "34       Entry-level  \n",
      "35       Entry-level  \n",
      "\n",
      "[5 rows x 33 columns]\n",
      "(3753, 33)\n"
     ]
    }
   ],
   "source": [
    "#Identify IT related jobs from IT Column\n",
    "it_jobs = job[job['IT'] == True]\n",
    "print(it_jobs.head())\n",
    "print(it_jobs.shape)"
   ]
  },
  {
   "cell_type": "code",
   "execution_count": 124,
   "id": "5f9cd250-55de-46c6-ac2f-6347cfcedb3b",
   "metadata": {},
   "outputs": [
    {
     "data": {
      "text/plain": [
       "Eligibility\n",
       "All qualified candidates                                                                                 15236\n",
       "All interested candidates                                                                                  903\n",
       "Everyone                                                                                                   367\n",
       "All interested candidates.                                                                                 221\n",
       "All qualified candidates.                                                                                  196\n",
       "                                                                                                         ...  \n",
       "All Web Designers                                                                                            1\n",
       "All qualified candidates are eligible to\\r\\napply.                                                           1\n",
       "Candidates experienced in administrative\\r\\nand human resource management.                                   1\n",
       "All qualified candidates with\\r\\nappropriate education & experience.                                         1\n",
       "All interested professionals in the\\r\\nfields of sociology, management and quality assurance systems.        1\n",
       "Name: count, Length: 663, dtype: int64"
      ]
     },
     "execution_count": 124,
     "metadata": {},
     "output_type": "execute_result"
    }
   ],
   "source": [
    "job['Eligibility'].value_counts()"
   ]
  },
  {
   "cell_type": "code",
   "execution_count": 125,
   "id": "1a99aff4-7051-4101-ad50-a716ab1fa055",
   "metadata": {},
   "outputs": [
    {
     "name": "stdout",
     "output_type": "stream",
     "text": [
      "                         Eligibility Education_Level  \\\n",
      "0           All qualified candidates     Open to All   \n",
      "1           All qualified candidates     Open to All   \n",
      "2           All qualified candidates     Open to All   \n",
      "3           All qualified candidates     Open to All   \n",
      "4           All qualified candidates     Open to All   \n",
      "...                              ...             ...   \n",
      "18996       All qualified candidates     Open to All   \n",
      "18997  All interested professionals.           Other   \n",
      "18998  All interested professionals.           Other   \n",
      "18999       All qualified candidates     Open to All   \n",
      "19000       All qualified candidates     Open to All   \n",
      "\n",
      "                        Audience Experience_Range  \n",
      "0      All interested candidates      Entry-level  \n",
      "1      All interested candidates      Entry-level  \n",
      "2      All interested candidates      Entry-level  \n",
      "3      All interested candidates      Entry-level  \n",
      "4      All interested candidates      Entry-level  \n",
      "...                          ...              ...  \n",
      "18996  All interested candidates      Entry-level  \n",
      "18997  All interested candidates      Entry-level  \n",
      "18998  All interested candidates      Entry-level  \n",
      "18999  All interested candidates      Entry-level  \n",
      "19000  All interested candidates      Entry-level  \n",
      "\n",
      "[18934 rows x 4 columns]\n"
     ]
    }
   ],
   "source": [
    "import pandas as pd\n",
    "import numpy as np\n",
    "\n",
    "# Ensure columns are present\n",
    "job['Eligibility'] = job['Eligibility'].fillna('')\n",
    "job['Audience'] = job['Audience'].fillna('')\n",
    "\n",
    "# Function to categorize education level\n",
    "def categorize_education(eligibility):\n",
    "    eligibility = str(eligibility).lower()\n",
    "    \n",
    "    if 'bachelor' in eligibility or 'undergraduate' in eligibility or 'degree' in eligibility:\n",
    "        return 'Bachelor’s Degree'\n",
    "    elif 'master' in eligibility or 'graduate' in eligibility or 'mba' in eligibility:\n",
    "        return 'Master’s Degree'\n",
    "    elif 'phd' in eligibility or 'doctorate' in eligibility:\n",
    "        return 'PhD or Higher'\n",
    "    elif 'high school' in eligibility or 'secondary' in eligibility or 'diploma' in eligibility:\n",
    "        return 'High School Diploma'\n",
    "    elif 'certificate' in eligibility or 'training' in eligibility:\n",
    "        return 'Certificate or Training'\n",
    "    elif 'all qualified candidates' in eligibility or 'everyone' in eligibility:\n",
    "        return 'Open to All'\n",
    "    else:\n",
    "        return 'Other'\n",
    "\n",
    "# Function to categorize experience range (same as before)\n",
    "def categorize_audience(audience):\n",
    "    audience = str(audience).lower()\n",
    "    if ('all interested candidates' in audience or 'fresher' in audience or \n",
    "        'junior' in audience or 'beginner' in audience):\n",
    "        return 'Entry-level'\n",
    "    elif ('professionals' in audience or '3-5 years' in audience or \n",
    "          'intermediate' in audience):\n",
    "        return 'Mid-level'\n",
    "    elif ('senior' in audience or '5+ years' in audience or 'manager' in audience or \n",
    "          'lead' in audience or 'specialist' in audience):\n",
    "        return 'Senior-level'\n",
    "    elif ('developer' in audience or 'designer' in audience or 'administrator' in audience or \n",
    "          'specialist' in audience):\n",
    "        return 'Specific Job Titles'\n",
    "    else:\n",
    "        return 'Other'\n",
    "\n",
    "# Apply functions\n",
    "job['Education_Level'] = job['Eligibility'].apply(categorize_education)\n",
    "job['Experience_Range'] = job['Audience'].apply(categorize_audience)\n",
    "\n",
    "# Display results\n",
    "print(job[['Eligibility', 'Education_Level', 'Audience', 'Experience_Range']])\n"
   ]
  },
  {
   "cell_type": "code",
   "execution_count": 126,
   "id": "891b2512-2a7d-4301-9abe-47c84021a045",
   "metadata": {},
   "outputs": [
    {
     "data": {
      "text/plain": [
       "jobpost                  0\n",
       "date                     0\n",
       "Title                    0\n",
       "Company                  0\n",
       "Term                     0\n",
       "Eligibility              0\n",
       "Audience                 0\n",
       "StartDate                0\n",
       "Duration                 0\n",
       "Location                 0\n",
       "JobDescription           0\n",
       "JobRequirment            0\n",
       "RequiredQual             0\n",
       "Salary                   0\n",
       "ApplicationP             0\n",
       "OpeningDate              0\n",
       "Deadline                 0\n",
       "Year                     0\n",
       "Month                    0\n",
       "IT                       0\n",
       "JobDescription_skills    0\n",
       "JobRequirment_skills     0\n",
       "modified_Term            0\n",
       "NormalizedTitle          0\n",
       "OpeningYear              0\n",
       "OpeningMonth             0\n",
       "DeadlineYear             0\n",
       "DeadlineMonth            0\n",
       "DaysLeftToApply          0\n",
       "State                    0\n",
       "Country                  0\n",
       "Education_Level          0\n",
       "Experience_Range         0\n",
       "dtype: int64"
      ]
     },
     "execution_count": 126,
     "metadata": {},
     "output_type": "execute_result"
    }
   ],
   "source": [
    "job.isnull().sum()"
   ]
  },
  {
   "cell_type": "code",
   "execution_count": null,
   "id": "639f0ea7-a4e5-4e80-a429-33c05a17f30c",
   "metadata": {},
   "outputs": [],
   "source": []
  }
 ],
 "metadata": {
  "kernelspec": {
   "display_name": "Python 3 (ipykernel)",
   "language": "python",
   "name": "python3"
  },
  "language_info": {
   "codemirror_mode": {
    "name": "ipython",
    "version": 3
   },
   "file_extension": ".py",
   "mimetype": "text/x-python",
   "name": "python",
   "nbconvert_exporter": "python",
   "pygments_lexer": "ipython3",
   "version": "3.11.3"
  }
 },
 "nbformat": 4,
 "nbformat_minor": 5
}
